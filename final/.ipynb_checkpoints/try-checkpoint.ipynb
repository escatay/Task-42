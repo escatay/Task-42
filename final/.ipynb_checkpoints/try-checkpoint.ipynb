{
 "cells": [
  {
   "cell_type": "code",
   "execution_count": 1,
   "id": "016bcd1b-eed6-4a6e-afd3-e08fd2096eea",
   "metadata": {},
   "outputs": [],
   "source": [
    "#libraries\n",
    "import sys \n",
    "import numpy as np\n",
    "import matplotlib.pyplot as plt\n",
    "import plotly.graph_objects as go\n",
    "import plotly.express as px\n",
    "from scipy.optimize import curve_fit\n",
    "import math\n",
    "from sklearn.base import BaseEstimator, TransformerMixin\n",
    "from sklearn.preprocessing import PolynomialFeatures\n",
    "from sklearn.linear_model import LinearRegression\n",
    "from sklearn.pipeline import make_pipeline\n",
    "from scipy.interpolate import BSpline, splrep, splev\n",
    "import ipywidgets as widgets\n",
    "from ipywidgets import interact, interactive, fixed, interact_manual\n",
    "from IPython.display import clear_output\n",
    "#our files\n",
    "import regression\n",
    "import models\n",
    "import interface\n",
    "import polynomial\n"
   ]
  },
  {
   "cell_type": "code",
   "execution_count": 2,
   "id": "2890d0f7-13cb-4495-8e16-8582d72fc82f",
   "metadata": {},
   "outputs": [
    {
     "data": {
      "application/vnd.jupyter.widget-view+json": {
       "model_id": "e8b4b28658d24509bb0e029019e0ffd7",
       "version_major": 2,
       "version_minor": 0
      },
      "text/plain": [
       "ToggleButtons(description='Basis Function:', options=('compare', 'polynomial', 'gaussian', 'periodical', 'sigm…"
      ]
     },
     "metadata": {},
     "output_type": "display_data"
    },
    {
     "data": {
      "application/vnd.jupyter.widget-view+json": {
       "model_id": "53d781fbdda247408072dd7ad5a5b6d7",
       "version_major": 2,
       "version_minor": 0
      },
      "text/plain": [
       "Output()"
      ]
     },
     "metadata": {},
     "output_type": "display_data"
    }
   ],
   "source": [
    "data = np.loadtxt(\"poly_data.csv\", delimiter = \",\")\n",
    "data1 = np.loadtxt(\"poly_data.csv\", delimiter = \",\")\n",
    "model = models.Model42(data, bf = None)\n",
    "\n",
    "choice = widgets.ToggleButtons(\n",
    "    options=['compare', 'polynomial', 'gaussian', 'periodical','sigmoidal', 'bspline', 'cubicspline'],\n",
    "    description='Basis Function:',\n",
    "    disabled=False,\n",
    "    button_style=''\n",
    ")\n",
    "model_fig_widget = widgets.Output()\n",
    "   \n",
    "def display_model(change):\n",
    "    chosen_option = choice.value\n",
    "    model.update(chosen_option)\n",
    "    model_fig = go.FigureWidget(model.fig)\n",
    "    with model_fig_widget:\n",
    "        clear_output(wait=True)\n",
    "        display(model_fig)\n",
    "\n",
    "choice.observe(display_model, names = \"value\")\n",
    "display(choice)\n",
    "display(model_fig_widget)"
   ]
  }
 ],
 "metadata": {
  "kernelspec": {
   "display_name": "Python 3 (ipykernel)",
   "language": "python",
   "name": "python3"
  },
  "language_info": {
   "codemirror_mode": {
    "name": "ipython",
    "version": 3
   },
   "file_extension": ".py",
   "mimetype": "text/x-python",
   "name": "python",
   "nbconvert_exporter": "python",
   "pygments_lexer": "ipython3",
   "version": "3.9.13"
  }
 },
 "nbformat": 4,
 "nbformat_minor": 5
}
