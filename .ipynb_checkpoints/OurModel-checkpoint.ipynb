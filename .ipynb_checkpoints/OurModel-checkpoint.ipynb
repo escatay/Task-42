{
 "cells": [
  {
   "cell_type": "markdown",
   "id": "d58eaf23-a0e2-4ab7-8e9d-8c93f81544a4",
   "metadata": {},
   "source": [
    "To do:\n",
    "-Introduction: #Emad\n",
    "    why do we use different basic functions and how do they work\n",
    "    how to use model\n",
    "    how to evaluate fit\n",
    "-Basic Functions: \n",
    "    how do they look? #Kim\n",
    "    when to use? #Kim\n",
    "    implement in .py #Judith\n",
    "    Polynomial\n",
    "    Gaussian\n",
    "    Sigmoidal\n",
    "    Periodical\n",
    "    (B-Splines)\n",
    "    (Cubic Spline)\n",
    "    \n",
    "    \n",
    "    \n",
    "for the model: #Lea\n",
    "dropdown menu?\n",
    "dataset?\n",
    ".py for regression, RMSE\n",
    "    "
   ]
  }
 ],
 "metadata": {
  "kernelspec": {
   "display_name": "Python 3 (ipykernel)",
   "language": "python",
   "name": "python3"
  },
  "language_info": {
   "codemirror_mode": {
    "name": "ipython",
    "version": 3
   },
   "file_extension": ".py",
   "mimetype": "text/x-python",
   "name": "python",
   "nbconvert_exporter": "python",
   "pygments_lexer": "ipython3",
   "version": "3.9.13"
  }
 },
 "nbformat": 4,
 "nbformat_minor": 5
}
